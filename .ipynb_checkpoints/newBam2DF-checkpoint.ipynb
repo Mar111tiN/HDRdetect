{
 "cells": [
  {
   "cell_type": "markdown",
   "metadata": {},
   "source": [
    "## make a new bam2df using mawk"
   ]
  },
  {
   "cell_type": "code",
   "execution_count": null,
   "metadata": {},
   "outputs": [],
   "source": [
    "import sys\n",
    "sys.path.append('./code')\n",
    "from io import StringIO\n",
    "from subprocess import Popen, PIPE, run\n",
    "from HDR_core import run_HDR\n",
    "from HDR_utils import *"
   ]
  },
  {
   "cell_type": "code",
   "execution_count": null,
   "metadata": {},
   "outputs": [],
   "source": [
    "ls data"
   ]
  },
  {
   "cell_type": "markdown",
   "metadata": {},
   "source": [
    "### old style"
   ]
  },
  {
   "cell_type": "code",
   "execution_count": null,
   "metadata": {},
   "outputs": [],
   "source": [
    "bam_df = bam2df('data/002_A.filter1.bam', 'chr1')\n",
    "bam_df[:3]"
   ]
  },
  {
   "cell_type": "code",
   "execution_count": null,
   "metadata": {},
   "outputs": [],
   "source": [
    "def editbamdf(df):\n",
    "    '''\n",
    "    clean_up the bam file\n",
    "    '''\n",
    "    # convert position into integer\n",
    "    df['ref_pos'] = df['ref_pos'].astype(int)\n",
    "    df['read_len'] = df['seq'].str.len()  # only for debugging\n",
    "    # extract the intron sizes from the cigar string\n",
    "    df['Chr_len'] = df['read_len']\n",
    "    # extraction of soft-clipped bases\n",
    "    df['soft_start'] = df['cigar'].str.extract(\n",
    "        r'(^[0-9]+)S').fillna(0).astype(int)\n",
    "    # filter out reads without a Cell barcode and return only desired columns\n",
    "    df = df[['name', 'ref_name', 'ref_pos', 'read_len',\n",
    "             'seq', 'qual', 'soft_start', 'cigar']]\n",
    "    df.columns = ['name', 'Chr', 'Pos', 'read_len',\n",
    "                  'Seq', 'Qual', 'Soft_start', 'Cigar']\n",
    "    return df"
   ]
  },
  {
   "cell_type": "code",
   "execution_count": null,
   "metadata": {},
   "outputs": [],
   "source": [
    "editbamdf(bam_df)[:3]"
   ]
  },
  {
   "cell_type": "markdown",
   "metadata": {},
   "source": [
    "### new style"
   ]
  },
  {
   "cell_type": "code",
   "execution_count": null,
   "metadata": {},
   "outputs": [],
   "source": [
    "def bam2df2(bam_file, bamtags=\"\", tool='samtools', mut_row=None, region='', q=20):\n",
    "    '''\n",
    "    set the region\n",
    "    '''\n",
    "\n",
    "    if region:\n",
    "        mut_pos = region\n",
    "\n",
    "    elif isinstance(mut_row, pd.Series):\n",
    "        chrom = mut_row['Chr']\n",
    "        pos = mut_row['Pos']\n",
    "        mut_pos = f\"{chrom}:{pos}-{pos} \"\n",
    "        print(mut_pos)\n",
    "        pileup = True\n",
    "    else:\n",
    "        mut_pos = ''\n",
    "\n",
    "    cmd = f\"{tool} view {bam_file} {mut_pos} | bam2csv | ./shell/editbam.mawk {q}\"\n",
    "    bam_df = pd.read_csv(StringIO(\n",
    "        run(cmd, stdout=PIPE, check=True, shell=True).stdout.decode('utf-8')), sep='\\t')\n",
    "    return bam_df"
   ]
  },
  {
   "cell_type": "code",
   "execution_count": null,
   "metadata": {},
   "outputs": [],
   "source": [
    "bam_df2 = bam2df2('data/002_A.filter1.bam', region='chr1')\n",
    "bam_df2[:3]"
   ]
  },
  {
   "cell_type": "code",
   "execution_count": null,
   "metadata": {},
   "outputs": [],
   "source": []
  }
 ],
 "metadata": {
  "kernelspec": {
   "display_name": "Python 3",
   "language": "python",
   "name": "python3"
  },
  "language_info": {
   "codemirror_mode": {
    "name": "ipython",
    "version": 3
   },
   "file_extension": ".py",
   "mimetype": "text/x-python",
   "name": "python",
   "nbconvert_exporter": "python",
   "pygments_lexer": "ipython3",
   "version": "3.7.6"
  }
 },
 "nbformat": 4,
 "nbformat_minor": 4
}
