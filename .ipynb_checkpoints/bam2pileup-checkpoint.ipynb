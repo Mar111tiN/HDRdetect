{
 "cells": [
  {
   "cell_type": "code",
   "execution_count": 1,
   "metadata": {
    "ExecuteTime": {
     "end_time": "2020-08-22T07:34:37.254023Z",
     "start_time": "2020-08-22T07:34:37.246891Z"
    }
   },
   "outputs": [],
   "source": [
    "import os\n",
    "import sys\n",
    "sys.path.append('./code')\n",
    "from HDR_hotspot import *\n",
    "home = '/Users/mahtin'\n",
    "bam_file = 'data/002_A.filter1.bam'\n",
    "chrom = 'chr1'\n",
    "pileup_file = 'data/002_A-B.filter1.pileup'\n",
    "threads = 3\n",
    "mut_file = 'data/002_A-B.filter1.csv'\n",
    "genome_split_path = os.path.join(home,'/Users/mahtin/Dropbox/Icke/Work/static/genome/gatk/hg38/split')\n",
    "HDR_config = {\n",
    "    \"minAltSum\": 4,\n",
    "    \"multi\": False\n",
    "    \"minAltRatio\": 0.1,\n",
    "    \"maxAltRatio\": 0.9,\n",
    "    \"MINQ\": 25,\n",
    "    \"MINSIM\": .85,\n",
    "    \"PAD\": 100,\n",
    "    \"MINq\": 20,\n",
    "    \"MinAltSupport\": 13,\n",
    "    \"MinHDRCount\": 1,\n",
    "    \"pile2hotspot\": './shell/pile2hotspot.mawk',\n",
    "    \"editbam\": './shell/editbam.mawk',\n",
    "    \"bam2csv\": 'bam2csv',\n",
    "    \"genome_split_path\": genome_split_path # the path to the folder with chrom-split genomes (chr1.fa..)\n",
    "}"
   ]
  },
  {
   "cell_type": "code",
   "execution_count": 2,
   "metadata": {
    "ExecuteTime": {
     "end_time": "2020-08-22T07:34:38.626257Z",
     "start_time": "2020-08-22T07:34:38.505837Z"
    }
   },
   "outputs": [
    {
     "ename": "TypeError",
     "evalue": "bam2hotspot() missing 1 required positional argument: 'multi'",
     "output_type": "error",
     "traceback": [
      "\u001b[0;31m---------------------------------------------------------------------\u001b[0m",
      "\u001b[0;31mTypeError\u001b[0m                           Traceback (most recent call last)",
      "\u001b[0;32m<ipython-input-2-a3769f1b038c>\u001b[0m in \u001b[0;36m<module>\u001b[0;34m\u001b[0m\n\u001b[1;32m      1\u001b[0m \u001b[0mmut_df\u001b[0m \u001b[0;34m=\u001b[0m \u001b[0mpd\u001b[0m\u001b[0;34m.\u001b[0m\u001b[0mread_csv\u001b[0m\u001b[0;34m(\u001b[0m\u001b[0mmut_file\u001b[0m\u001b[0;34m,\u001b[0m \u001b[0msep\u001b[0m\u001b[0;34m=\u001b[0m\u001b[0;34m'\\t'\u001b[0m\u001b[0;34m)\u001b[0m\u001b[0;34m\u001b[0m\u001b[0;34m\u001b[0m\u001b[0m\n\u001b[0;32m----> 2\u001b[0;31m \u001b[0mhot1\u001b[0m \u001b[0;34m=\u001b[0m \u001b[0mbam2hotspot\u001b[0m\u001b[0;34m(\u001b[0m\u001b[0mmut_df\u001b[0m\u001b[0;34m=\u001b[0m\u001b[0mmut_df\u001b[0m\u001b[0;34m,\u001b[0m \u001b[0mpilebam\u001b[0m\u001b[0;34m=\u001b[0m\u001b[0mbam_file\u001b[0m\u001b[0;34m,\u001b[0m \u001b[0mchrom\u001b[0m\u001b[0;34m=\u001b[0m\u001b[0mchrom\u001b[0m\u001b[0;34m,\u001b[0m \u001b[0mHDR_config\u001b[0m\u001b[0;34m=\u001b[0m\u001b[0mHDR_config\u001b[0m\u001b[0;34m)\u001b[0m\u001b[0;34m\u001b[0m\u001b[0;34m\u001b[0m\u001b[0m\n\u001b[0m\u001b[1;32m      3\u001b[0m \u001b[0mhot1\u001b[0m\u001b[0;34m\u001b[0m\u001b[0;34m\u001b[0m\u001b[0m\n\u001b[1;32m      4\u001b[0m \u001b[0mhot2\u001b[0m \u001b[0;34m=\u001b[0m \u001b[0mbam2hotspot\u001b[0m\u001b[0;34m(\u001b[0m\u001b[0mmut_df\u001b[0m\u001b[0;34m=\u001b[0m\u001b[0mmut_df\u001b[0m\u001b[0;34m,\u001b[0m \u001b[0mpilebam\u001b[0m\u001b[0;34m=\u001b[0m\u001b[0mpileup_file\u001b[0m\u001b[0;34m,\u001b[0m \u001b[0mchrom\u001b[0m\u001b[0;34m=\u001b[0m\u001b[0mchrom\u001b[0m\u001b[0;34m,\u001b[0m \u001b[0mHDR_config\u001b[0m\u001b[0;34m=\u001b[0m\u001b[0mHDR_config\u001b[0m\u001b[0;34m)\u001b[0m\u001b[0;34m\u001b[0m\u001b[0;34m\u001b[0m\u001b[0m\n\u001b[1;32m      5\u001b[0m \u001b[0mhot2\u001b[0m\u001b[0;34m\u001b[0m\u001b[0;34m\u001b[0m\u001b[0m\n",
      "\u001b[0;31mTypeError\u001b[0m: bam2hotspot() missing 1 required positional argument: 'multi'"
     ]
    }
   ],
   "source": [
    "mut_df = pd.read_csv(mut_file, sep='\\t')\n",
    "hot1 = bam2hotspot(mut_df=mut_df, pilebam=bam_file, chrom=chrom, HDR_config=HDR_config)\n",
    "hot1\n",
    "hot2 = bam2hotspot(mut_df=mut_df, pilebam=pileup_file, chrom=chrom, HDR_config=HDR_config)\n",
    "hot2\n",
    "hot3 = bam2hotspot_multi(mut_df=mut_df, pilebam=bam_file, threads=8, chrom=chrom, HDR_config=HDR_config)\n",
    "hot3"
   ]
  },
  {
   "cell_type": "code",
   "execution_count": null,
   "metadata": {
    "ExecuteTime": {
     "end_time": "2020-08-21T15:38:36.168148Z",
     "start_time": "2020-08-21T15:38:36.107115Z"
    }
   },
   "outputs": [],
   "source": [
    "pileup_df = get_count_pileup('data/002_A-B.filter1.pileup')\n",
    "hotspot_df = filter_hotspots(pileup_df, HDR_config)\n",
    "hot1 = hotspot_df.query('Chr == \"chr1\"')\n",
    "hot1"
   ]
  },
  {
   "cell_type": "code",
   "execution_count": null,
   "metadata": {
    "ExecuteTime": {
     "end_time": "2020-08-21T11:14:16.026870Z",
     "start_time": "2020-08-21T11:14:16.020339Z"
    }
   },
   "outputs": [],
   "source": [
    "def get_adjacent_HDR(mut_row, hotspot_df, padding=150):\n",
    "    '''\n",
    "    get the adjacent HDR-lanes for each mutation as a HDR_df dataframe for further computation\n",
    "    '''\n",
    "\n",
    "    chrom = mut_row['Chr']\n",
    "    mut_pos = mut_row['Start']\n",
    "    HDR_df = hotspot_df.query(\n",
    "        '(@mut_pos - @padding < Pos < @mut_pos + @padding)')\n",
    "    # get distance to mut_spot\n",
    "    HDR_df.loc[:, 'Dist'] = HDR_df['Pos'] - mut_pos\n",
    "    \n",
    "    # !!! adjust for empty file\n",
    "    # what does this actually do\n",
    "    HDR_df.loc[:, 'Alt'] = HDR_df[['A', 'C', 'T', 'G']].idxmax(axis=1)\n",
    "    return HDR_df.iloc[:, [0, 1, 2, -1, 3, 10, -2]]\n",
    "\n",
    "\n",
    "def get_adjacent_HDR2(mut_row, hotspot_df, padding=150):\n",
    "    '''\n",
    "    get the adjacent HDR-lanes for each mutation as a HDR_df dataframe for further computation\n",
    "    '''\n",
    "    \n",
    "    chrom = mut_row['Chr']\n",
    "    mut_pos = mut_row['Start']\n",
    "    HDR_df = hotspot_df.query(\n",
    "        '(@mut_pos - @padding < Pos < @mut_pos + @padding)')\n",
    "    # get distance to mut_spot\n",
    "    HDR_df.loc[:, 'Dist'] = HDR_df['Pos'] - mut_pos\n",
    "    cols = ['Chr', 'Pos', 'Ref', 'Depth', 'Alt', 'AltSum', 'Dist']\n",
    "    return HDR_df[cols]"
   ]
  },
  {
   "cell_type": "code",
   "execution_count": null,
   "metadata": {
    "ExecuteTime": {
     "end_time": "2020-08-21T11:14:05.343103Z",
     "start_time": "2020-08-21T11:14:05.320155Z"
    }
   },
   "outputs": [],
   "source": [
    "mut_df = pd.read_csv('data/002_A-B.filter1.csv', sep='\\t')\n",
    "mut_row = mut_df.iloc[1,:]\n",
    "get_adjacent_HDR(mut_row, hot1, padding=150)"
   ]
  },
  {
   "cell_type": "code",
   "execution_count": null,
   "metadata": {
    "ExecuteTime": {
     "end_time": "2020-08-21T11:14:19.048529Z",
     "start_time": "2020-08-21T11:14:19.030305Z"
    }
   },
   "outputs": [],
   "source": [
    "get_adjacent_HDR2(mut_row, hot2, padding=150)"
   ]
  }
 ],
 "metadata": {
  "kernelspec": {
   "display_name": "Python 3",
   "language": "python",
   "name": "python3"
  },
  "language_info": {
   "codemirror_mode": {
    "name": "ipython",
    "version": 3
   },
   "file_extension": ".py",
   "mimetype": "text/x-python",
   "name": "python",
   "nbconvert_exporter": "python",
   "pygments_lexer": "ipython3",
   "version": "3.8.2"
  },
  "varInspector": {
   "cols": {
    "lenName": 16,
    "lenType": 16,
    "lenVar": 40
   },
   "kernels_config": {
    "python": {
     "delete_cmd_postfix": "",
     "delete_cmd_prefix": "del ",
     "library": "var_list.py",
     "varRefreshCmd": "print(var_dic_list())"
    },
    "r": {
     "delete_cmd_postfix": ") ",
     "delete_cmd_prefix": "rm(",
     "library": "var_list.r",
     "varRefreshCmd": "cat(var_dic_list()) "
    }
   },
   "types_to_exclude": [
    "module",
    "function",
    "builtin_function_or_method",
    "instance",
    "_Feature"
   ],
   "window_display": false
  }
 },
 "nbformat": 4,
 "nbformat_minor": 4
}
