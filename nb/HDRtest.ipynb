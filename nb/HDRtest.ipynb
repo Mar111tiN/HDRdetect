{
 "cells": [
  {
   "cell_type": "code",
   "execution_count": null,
   "metadata": {
    "ExecuteTime": {
     "end_time": "2020-08-23T13:31:01.210630Z",
     "start_time": "2020-08-23T13:31:01.086781Z"
    }
   },
   "outputs": [],
   "source": [
    "ls ../data"
   ]
  },
  {
   "cell_type": "code",
   "execution_count": 2,
   "metadata": {
    "ExecuteTime": {
     "end_time": "2020-08-24T05:10:37.283231Z",
     "start_time": "2020-08-24T05:10:33.803157Z"
    }
   },
   "outputs": [
    {
     "name": "stdout",
     "output_type": "stream",
     "text": [
      "\u001b[1;30;1mImporting /Users/martinscience/Dropbox/Icke/Work/somVar/HDRtest/data/002.csv for HDR detection\u001b[0m\n",
      "\u001b[1;35;2m07:10:33\u001b[0m : \u001b[1;30;1mStarting HDR analysis of /Users/martinscience/Dropbox/Icke/Work/somVar/HDRtest/data/002.csv on chr1 using 8 cores. [MIN_SIM=0.5, PAD=100]\u001b[0m\n",
      "\u001b[1;35;2m07:10:33\u001b[0m : \u001b[1;30;1mUsing 4 cores for hotspot detection on chr1\u001b[0m\n",
      "\u001b[1;35;2m07:10:36\u001b[0m : \u001b[1;30;1mDetected 0 putative HDR lanes in /Users/martinscience/Dropbox/Icke/Work/somVar/HDRtest/data/002.bam .\u001b[0m\n",
      "\u001b[1;35;2m07:10:36\u001b[0m : \u001b[1;30;1mUsing 8 cores for filtering HDR-rich mutations\u001b[0m\n",
      "\u001b[1;35;2m07:10:37\u001b[0m : \u001b[1;30;1mFound a total of 0 HDR-rich mutations\u001b[0m\n",
      "\u001b[1;35;2m07:10:37\u001b[0m : \u001b[1;30;1mUsing 8 cores for HDR computation\u001b[0m\n"
     ]
    },
    {
     "ename": "ValueError",
     "evalue": "number sections must be larger than 0.",
     "output_type": "error",
     "traceback": [
      "\u001b[0;31m---------------------------------------------------------------------------\u001b[0m",
      "\u001b[0;31mTypeError\u001b[0m                                 Traceback (most recent call last)",
      "\u001b[0;32m~/miniconda/lib/python3.8/site-packages/numpy/lib/shape_base.py\u001b[0m in \u001b[0;36marray_split\u001b[0;34m(ary, indices_or_sections, axis)\u001b[0m\n\u001b[1;32m    769\u001b[0m         \u001b[0;31m# handle array case.\u001b[0m\u001b[0;34m\u001b[0m\u001b[0;34m\u001b[0m\u001b[0;34m\u001b[0m\u001b[0m\n\u001b[0;32m--> 770\u001b[0;31m         \u001b[0mNsections\u001b[0m \u001b[0;34m=\u001b[0m \u001b[0mlen\u001b[0m\u001b[0;34m(\u001b[0m\u001b[0mindices_or_sections\u001b[0m\u001b[0;34m)\u001b[0m \u001b[0;34m+\u001b[0m \u001b[0;36m1\u001b[0m\u001b[0;34m\u001b[0m\u001b[0;34m\u001b[0m\u001b[0m\n\u001b[0m\u001b[1;32m    771\u001b[0m         \u001b[0mdiv_points\u001b[0m \u001b[0;34m=\u001b[0m \u001b[0;34m[\u001b[0m\u001b[0;36m0\u001b[0m\u001b[0;34m]\u001b[0m \u001b[0;34m+\u001b[0m \u001b[0mlist\u001b[0m\u001b[0;34m(\u001b[0m\u001b[0mindices_or_sections\u001b[0m\u001b[0;34m)\u001b[0m \u001b[0;34m+\u001b[0m \u001b[0;34m[\u001b[0m\u001b[0mNtotal\u001b[0m\u001b[0;34m]\u001b[0m\u001b[0;34m\u001b[0m\u001b[0;34m\u001b[0m\u001b[0m\n",
      "\u001b[0;31mTypeError\u001b[0m: object of type 'int' has no len()",
      "\nDuring handling of the above exception, another exception occurred:\n",
      "\u001b[0;31mValueError\u001b[0m                                Traceback (most recent call last)",
      "\u001b[0;32m<ipython-input-2-7037c11d7a0c>\u001b[0m in \u001b[0;36m<module>\u001b[0;34m\u001b[0m\n\u001b[1;32m     31\u001b[0m     \u001b[0;34m\"genome_split_path\"\u001b[0m\u001b[0;34m:\u001b[0m \u001b[0mgenome_split_path\u001b[0m \u001b[0;31m# the path to the folder with chrom-split genomes (chr1.fa..)\u001b[0m\u001b[0;34m\u001b[0m\u001b[0;34m\u001b[0m\u001b[0m\n\u001b[1;32m     32\u001b[0m }\n\u001b[0;32m---> 33\u001b[0;31m \u001b[0mHDR_master\u001b[0m\u001b[0;34m(\u001b[0m\u001b[0mmut_file\u001b[0m\u001b[0;34m,\u001b[0m \u001b[0mbam_file\u001b[0m\u001b[0;34m=\u001b[0m\u001b[0mbam_file\u001b[0m\u001b[0;34m,\u001b[0m \u001b[0mchrom\u001b[0m\u001b[0;34m=\u001b[0m\u001b[0mchrom\u001b[0m\u001b[0;34m,\u001b[0m \u001b[0mthreads\u001b[0m\u001b[0;34m=\u001b[0m\u001b[0mthreads\u001b[0m\u001b[0;34m,\u001b[0m \u001b[0mHDR_config\u001b[0m\u001b[0;34m=\u001b[0m\u001b[0mHDR_config\u001b[0m\u001b[0;34m)\u001b[0m\u001b[0;34m\u001b[0m\u001b[0;34m\u001b[0m\u001b[0m\n\u001b[0m",
      "\u001b[0;32m~/Dropbox/Icke/Work/somVar/HDRtest/code/HDR_run.py\u001b[0m in \u001b[0;36mHDR_master\u001b[0;34m(mut_file, bam_file, chrom, threads, HDR_config, pileup_file)\u001b[0m\n\u001b[1;32m     40\u001b[0m \u001b[0;34m\u001b[0m\u001b[0m\n\u001b[1;32m     41\u001b[0m     \u001b[0;32mif\u001b[0m \u001b[0mchrom\u001b[0m\u001b[0;34m:\u001b[0m\u001b[0;34m\u001b[0m\u001b[0;34m\u001b[0m\u001b[0m\n\u001b[0;32m---> 42\u001b[0;31m         \u001b[0;32mreturn\u001b[0m \u001b[0mHDR_run\u001b[0m\u001b[0;34m(\u001b[0m\u001b[0mmut_df\u001b[0m\u001b[0;34m,\u001b[0m \u001b[0mmut_file\u001b[0m\u001b[0;34m,\u001b[0m \u001b[0mbam_file\u001b[0m\u001b[0;34m,\u001b[0m \u001b[0mchrom\u001b[0m\u001b[0;34m,\u001b[0m \u001b[0mthreads\u001b[0m\u001b[0;34m,\u001b[0m \u001b[0mHDR_config\u001b[0m\u001b[0;34m,\u001b[0m \u001b[0mpileup_file\u001b[0m\u001b[0;34m)\u001b[0m\u001b[0;34m\u001b[0m\u001b[0;34m\u001b[0m\u001b[0m\n\u001b[0m\u001b[1;32m     43\u001b[0m \u001b[0;34m\u001b[0m\u001b[0m\n\u001b[1;32m     44\u001b[0m     \u001b[0;31m# if no chroms are given\u001b[0m\u001b[0;34m\u001b[0m\u001b[0;34m\u001b[0m\u001b[0;34m\u001b[0m\u001b[0m\n",
      "\u001b[0;32m~/Dropbox/Icke/Work/somVar/HDRtest/code/HDR_run.py\u001b[0m in \u001b[0;36mHDR_run\u001b[0;34m(mut_df, mut_file, bam_file, chrom, threads, HDR_config, pileup_file)\u001b[0m\n\u001b[1;32m     79\u001b[0m         f\"Found a total of {len(filter_HDR.index)} HDR-rich mutations\", multi=False)\n\u001b[1;32m     80\u001b[0m \u001b[0;34m\u001b[0m\u001b[0m\n\u001b[0;32m---> 81\u001b[0;31m     HDR_df = get_HDR_multi(filter_HDR, bam_file=bam_file, hotspot_df=hotspot_df, threads=threads,\n\u001b[0m\u001b[1;32m     82\u001b[0m                            chrom=chrom, HDR_config=HDR_config)\n\u001b[1;32m     83\u001b[0m \u001b[0;34m\u001b[0m\u001b[0m\n",
      "\u001b[0;32m~/Dropbox/Icke/Work/somVar/HDRtest/code/HDR_core.py\u001b[0m in \u001b[0;36mget_HDR_multi\u001b[0;34m(filter_HDR, bam_file, hotspot_df, threads, chrom, HDR_config)\u001b[0m\n\u001b[1;32m     75\u001b[0m     \u001b[0;31m# minimal length of 2 mutations\u001b[0m\u001b[0;34m\u001b[0m\u001b[0;34m\u001b[0m\u001b[0;34m\u001b[0m\u001b[0m\n\u001b[1;32m     76\u001b[0m     \u001b[0msplit_factor\u001b[0m \u001b[0;34m=\u001b[0m \u001b[0mmin\u001b[0m\u001b[0;34m(\u001b[0m\u001b[0mmath\u001b[0m\u001b[0;34m.\u001b[0m\u001b[0mceil\u001b[0m\u001b[0;34m(\u001b[0m\u001b[0mlen\u001b[0m\u001b[0;34m(\u001b[0m\u001b[0mfilter_HDR\u001b[0m\u001b[0;34m.\u001b[0m\u001b[0mindex\u001b[0m\u001b[0;34m)\u001b[0m \u001b[0;34m/\u001b[0m \u001b[0;36m2\u001b[0m\u001b[0;34m)\u001b[0m\u001b[0;34m,\u001b[0m \u001b[0mthreads\u001b[0m\u001b[0;34m)\u001b[0m\u001b[0;34m\u001b[0m\u001b[0;34m\u001b[0m\u001b[0m\n\u001b[0;32m---> 77\u001b[0;31m     \u001b[0mfilter_hdr_split\u001b[0m \u001b[0;34m=\u001b[0m \u001b[0mnp\u001b[0m\u001b[0;34m.\u001b[0m\u001b[0marray_split\u001b[0m\u001b[0;34m(\u001b[0m\u001b[0mfilter_HDR\u001b[0m\u001b[0;34m,\u001b[0m \u001b[0msplit_factor\u001b[0m\u001b[0;34m)\u001b[0m\u001b[0;34m\u001b[0m\u001b[0;34m\u001b[0m\u001b[0m\n\u001b[0m\u001b[1;32m     78\u001b[0m     \u001b[0;31m# apply\u001b[0m\u001b[0;34m\u001b[0m\u001b[0;34m\u001b[0m\u001b[0;34m\u001b[0m\u001b[0m\n\u001b[1;32m     79\u001b[0m     HDR_dfs = hdr_pool.map(partial(get_HDR, bam_file, hotspot_df,\n",
      "\u001b[0;32m<__array_function__ internals>\u001b[0m in \u001b[0;36marray_split\u001b[0;34m(*args, **kwargs)\u001b[0m\n",
      "\u001b[0;32m~/miniconda/lib/python3.8/site-packages/numpy/lib/shape_base.py\u001b[0m in \u001b[0;36marray_split\u001b[0;34m(ary, indices_or_sections, axis)\u001b[0m\n\u001b[1;32m    774\u001b[0m         \u001b[0mNsections\u001b[0m \u001b[0;34m=\u001b[0m \u001b[0mint\u001b[0m\u001b[0;34m(\u001b[0m\u001b[0mindices_or_sections\u001b[0m\u001b[0;34m)\u001b[0m\u001b[0;34m\u001b[0m\u001b[0;34m\u001b[0m\u001b[0m\n\u001b[1;32m    775\u001b[0m         \u001b[0;32mif\u001b[0m \u001b[0mNsections\u001b[0m \u001b[0;34m<=\u001b[0m \u001b[0;36m0\u001b[0m\u001b[0;34m:\u001b[0m\u001b[0;34m\u001b[0m\u001b[0;34m\u001b[0m\u001b[0m\n\u001b[0;32m--> 776\u001b[0;31m             \u001b[0;32mraise\u001b[0m \u001b[0mValueError\u001b[0m\u001b[0;34m(\u001b[0m\u001b[0;34m'number sections must be larger than 0.'\u001b[0m\u001b[0;34m)\u001b[0m\u001b[0;34m\u001b[0m\u001b[0;34m\u001b[0m\u001b[0m\n\u001b[0m\u001b[1;32m    777\u001b[0m         \u001b[0mNeach_section\u001b[0m\u001b[0;34m,\u001b[0m \u001b[0mextras\u001b[0m \u001b[0;34m=\u001b[0m \u001b[0mdivmod\u001b[0m\u001b[0;34m(\u001b[0m\u001b[0mNtotal\u001b[0m\u001b[0;34m,\u001b[0m \u001b[0mNsections\u001b[0m\u001b[0;34m)\u001b[0m\u001b[0;34m\u001b[0m\u001b[0;34m\u001b[0m\u001b[0m\n\u001b[1;32m    778\u001b[0m         section_sizes = ([0] +\n",
      "\u001b[0;31mValueError\u001b[0m: number sections must be larger than 0."
     ]
    }
   ],
   "source": [
    "import sys\n",
    "import os\n",
    "sys.path.append('../code')\n",
    "from io import StringIO\n",
    "from subprocess import Popen, PIPE, run\n",
    "from HDR_run import HDR_master\n",
    "\n",
    "home = '/Users/mahtin'\n",
    "path = '/Users/martinscience/Dropbox/Icke/Work/somVar/HDRtest'\n",
    "bam_file = f'{path}/data/002.bam '\n",
    "chrom = 'chr1'\n",
    "# chrom = ''\n",
    "pileup_file = f'{path}/data/002.pileup'\n",
    "threads = 8\n",
    "mut_file = f'{path}/data/002.csv'\n",
    "genome_split_path = os.path.join(home,'Dropbox/Icke/Work/static/genome/gatk/hg38/split')\n",
    "HDR_config = {\n",
    "    \"minAltSum\": 2,\n",
    "    \"minAltRatio\": 0.1,\n",
    "    \"maxAltRatio\": 0.85,\n",
    "    \"MINQ\": 15,\n",
    "    \"MINSIM\": .50,\n",
    "    \"PAD\": 100,\n",
    "    \"MINq\": 10,\n",
    "    \"MinAltSupport\": 5,\n",
    "    \"MinHDRCount\": 1,\n",
    "    \"pile2hotspot\": '../shell/pile2hotspot.mawk',#\n",
    "    \"pile2hotspot_chrom\": '../shell/pile2hotspot_chrom.mawk',\n",
    "    \"editbam\": '../shell/editbam.mawk',\n",
    "    \"bam2csv\": '../shell/bam2csv.mawk',\n",
    "    \"genome_split_path\": genome_split_path # the path to the folder with chrom-split genomes (chr1.fa..)\n",
    "}\n",
    "HDR_master(mut_file, bam_file=bam_file, chrom=chrom, threads=threads, HDR_config=HDR_config)"
   ]
  },
  {
   "cell_type": "code",
   "execution_count": null,
   "metadata": {
    "ExecuteTime": {
     "end_time": "2020-08-23T14:07:32.114469Z",
     "start_time": "2020-08-23T14:07:31.983073Z"
    }
   },
   "outputs": [],
   "source": [
    "ls data"
   ]
  },
  {
   "cell_type": "code",
   "execution_count": null,
   "metadata": {
    "ExecuteTime": {
     "end_time": "2020-08-23T19:25:07.814840Z",
     "start_time": "2020-08-23T19:25:07.772067Z"
    }
   },
   "outputs": [],
   "source": [
    "\n",
    "home = '/Users/mahtin'\n",
    "path = '/Users/mahtin/Dropbox/Icke/Work/somVar/HDRtest'\n",
    "bam_file = f'{path}/data/002.bam '\n",
    "chrom = 'chr1'\n",
    "# chrom = ''\n",
    "pileup_file = f'{path}/data/002.pileup'\n",
    "threads = 8\n",
    "mut_file = f'{path}/data/002.csv'\n",
    "mut_df = pd.read_csv(mut_file, sep='\\t').loc[:, [\n",
    "        'Chr', 'Start', 'End', 'Ref', 'Alt', 'Gene']]\n",
    "# make Chr column categorical for sorting .. and sort\n",
    "chrom_list = [f\"chr{i}\" for i in range(23)] + ['chrX', 'chrY']\n",
    "mut_df['Chr'] = pd.Categorical(mut_df['Chr'], chrom_list)\n",
    "mut_df = mut_df.sort_values(['Chr', 'Start'])\n",
    "mut_df = mut_df.query('Chr == @chrom')\n",
    "mut_df\n",
    "mut_split = np.array_split(mut_df, 4)"
   ]
  },
  {
   "cell_type": "code",
   "execution_count": null,
   "metadata": {
    "ExecuteTime": {
     "end_time": "2020-08-23T19:14:23.270088Z",
     "start_time": "2020-08-23T19:14:23.267394Z"
    }
   },
   "outputs": [],
   "source": [
    "mut_df = mut_split[0]"
   ]
  },
  {
   "cell_type": "code",
   "execution_count": null,
   "metadata": {
    "ExecuteTime": {
     "end_time": "2020-08-23T19:30:19.182347Z",
     "start_time": "2020-08-23T19:30:19.170669Z"
    }
   },
   "outputs": [],
   "source": [
    "anno_df = mut_df.sort_values(['Chr', 'Start']).iloc[0:,:5]\n",
    "anno_df"
   ]
  },
  {
   "cell_type": "code",
   "execution_count": null,
   "metadata": {
    "ExecuteTime": {
     "end_time": "2020-08-23T19:38:46.184923Z",
     "start_time": "2020-08-23T19:38:46.179603Z"
    }
   },
   "outputs": [],
   "source": [
    "def reduce_regions(df, padding):\n",
    "    '''\n",
    "    takes a mutation list and returns a region list using padding\n",
    "    overlapping regions are reduced to one using the gap strategy\n",
    "    '''\n",
    "\n",
    "    df = df.sort_values('Start')\n",
    "    df['Start'] = df['Start'] - padding\n",
    "    df['End'] = df['End'] + padding\n",
    "    # find the break points\n",
    "    # if Start is greater than previous End (using shift), this is a gap --> df['gap'] = 1\n",
    "    df['gap'] = df['Start'].gt(df['End'].shift()).astype('int')\n",
    "    # id different reads according to gap\n",
    "    # cumulative sum does not increase at df['gap'] == 0 and so these consecutive stretches are grouped together\n",
    "    df['gap'] = df['gap'].cumsum()\n",
    "    # groupby the coverage break group and condense individual coverage islands\n",
    "    # agg has to contain the neccessary shared columns TransLength because it is needed for coverage computation\n",
    "    df = df.groupby('gap').agg({'Chr':'first','Start': 'min', 'End':'max'})\n",
    "    return df.reset_index('gap').drop(columns='gap')"
   ]
  },
  {
   "cell_type": "code",
   "execution_count": null,
   "metadata": {
    "ExecuteTime": {
     "end_time": "2020-08-23T19:37:26.582555Z",
     "start_time": "2020-08-23T19:37:26.547975Z"
    }
   },
   "outputs": [],
   "source": [
    "df = anno_df\n",
    "anno_df\n",
    "padding = 100\n",
    "df['Start'] = df['Start'] - padding\n",
    "df['End'] = df['End'] + padding\n",
    "df['gap'] = df['Start'].gt(df['End'].shift()).astype('int')\n",
    "df['gap'] = df['gap'].cumsum()\n",
    "df = df.groupby('gap').agg({'Chr':'first','Start': 'min', 'End':'max'}).reset_index().drop(columns='gap')\n",
    "df"
   ]
  },
  {
   "cell_type": "code",
   "execution_count": null,
   "metadata": {
    "ExecuteTime": {
     "end_time": "2020-08-23T19:38:49.099313Z",
     "start_time": "2020-08-23T19:38:49.076795Z"
    }
   },
   "outputs": [],
   "source": [
    "bed_df = reduce_regions(anno_df, 100)\n",
    "bed_df"
   ]
  },
  {
   "cell_type": "code",
   "execution_count": null,
   "metadata": {},
   "outputs": [],
   "source": []
  }
 ],
 "metadata": {
  "kernelspec": {
   "display_name": "Python 3",
   "language": "python",
   "name": "python3"
  },
  "language_info": {
   "codemirror_mode": {
    "name": "ipython",
    "version": 3
   },
   "file_extension": ".py",
   "mimetype": "text/x-python",
   "name": "python",
   "nbconvert_exporter": "python",
   "pygments_lexer": "ipython3",
   "version": "3.8.2"
  },
  "varInspector": {
   "cols": {
    "lenName": 16,
    "lenType": 16,
    "lenVar": 40
   },
   "kernels_config": {
    "python": {
     "delete_cmd_postfix": "",
     "delete_cmd_prefix": "del ",
     "library": "var_list.py",
     "varRefreshCmd": "print(var_dic_list())"
    },
    "r": {
     "delete_cmd_postfix": ") ",
     "delete_cmd_prefix": "rm(",
     "library": "var_list.r",
     "varRefreshCmd": "cat(var_dic_list()) "
    }
   },
   "types_to_exclude": [
    "module",
    "function",
    "builtin_function_or_method",
    "instance",
    "_Feature"
   ],
   "window_display": false
  }
 },
 "nbformat": 4,
 "nbformat_minor": 4
}
