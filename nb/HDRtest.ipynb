{
 "cells": [
  {
   "cell_type": "code",
   "execution_count": null,
   "metadata": {
    "ExecuteTime": {
     "end_time": "2020-08-23T13:31:01.210630Z",
     "start_time": "2020-08-23T13:31:01.086781Z"
    }
   },
   "outputs": [],
   "source": [
    "ls ../data"
   ]
  },
  {
   "cell_type": "code",
   "execution_count": 4,
   "metadata": {
    "ExecuteTime": {
     "end_time": "2020-08-24T05:10:37.283231Z",
     "start_time": "2020-08-24T05:10:33.803157Z"
    }
   },
   "outputs": [
    {
     "name": "stdout",
     "output_type": "stream",
     "text": [
      "\u001b[1;30;1mImporting /Users/martinscience/Dropbox/Icke/Work/somVar/HDRtest/data/002.csv for HDR detection\u001b[0m\n",
      "\u001b[1;35;2m17:07:06\u001b[0m : \u001b[1;30;1mStarting HDR analysis of /Users/martinscience/Dropbox/Icke/Work/somVar/HDRtest/data/002.csv on chr1 using 8 cores. [MIN_SIM=0.5, PAD=100]\u001b[0m\n",
      "\u001b[92mProcess 43215\u001b[0m : \u001b[1m$ cat /Users/martinscience/Dropbox/Icke/Work/somVar/HDRtest/data/001.chr1.pileup | ../shell/pile2hotspot_chrom.mawk chr1 2\u001b[0m\n",
      "\u001b[1;35;2m17:07:06\u001b[0m : \u001b[1;30;1mDetected 4 putative HDR lanes in /Users/martinscience/Dropbox/Icke/Work/somVar/HDRtest/data/001.chr1.pileup.\u001b[0m\n",
      "\u001b[1;35;2m17:07:06\u001b[0m : \u001b[1;30;1mUsing 8 cores for filtering HDR-rich mutations\u001b[0m\n",
      "\u001b[1;35;2m17:07:07\u001b[0m : \u001b[1;30;1mFound no HDR-rich mutations in /Users/martinscience/Dropbox/Icke/Work/somVar/HDRtest/data/001.chr1.pileup\u001b[0m\n"
     ]
    },
    {
     "data": {
      "text/html": [
       "<div>\n",
       "<style scoped>\n",
       "    .dataframe tbody tr th:only-of-type {\n",
       "        vertical-align: middle;\n",
       "    }\n",
       "\n",
       "    .dataframe tbody tr th {\n",
       "        vertical-align: top;\n",
       "    }\n",
       "\n",
       "    .dataframe thead th {\n",
       "        text-align: right;\n",
       "    }\n",
       "</style>\n",
       "<table border=\"1\" class=\"dataframe\">\n",
       "  <thead>\n",
       "    <tr style=\"text-align: right;\">\n",
       "      <th></th>\n",
       "      <th>Chr</th>\n",
       "      <th>Start</th>\n",
       "      <th>End</th>\n",
       "      <th>Ref</th>\n",
       "      <th>Alt</th>\n",
       "      <th>Gene</th>\n",
       "      <th>HDRcand</th>\n",
       "      <th>HDRcount</th>\n",
       "      <th>HDRinfo</th>\n",
       "    </tr>\n",
       "  </thead>\n",
       "  <tbody>\n",
       "    <tr>\n",
       "      <th>0</th>\n",
       "      <td>chr1</td>\n",
       "      <td>3632268</td>\n",
       "      <td>3632268</td>\n",
       "      <td>G</td>\n",
       "      <td>C</td>\n",
       "      <td>WRAP73</td>\n",
       "      <td>0</td>\n",
       "      <td>0</td>\n",
       "      <td>no HDR in vincinity</td>\n",
       "    </tr>\n",
       "    <tr>\n",
       "      <th>1</th>\n",
       "      <td>chr1</td>\n",
       "      <td>4712657</td>\n",
       "      <td>4712657</td>\n",
       "      <td>G</td>\n",
       "      <td>A</td>\n",
       "      <td>AJAP1</td>\n",
       "      <td>0</td>\n",
       "      <td>0</td>\n",
       "      <td>no HDR in vincinity</td>\n",
       "    </tr>\n",
       "    <tr>\n",
       "      <th>2</th>\n",
       "      <td>chr1</td>\n",
       "      <td>23417366</td>\n",
       "      <td>23417366</td>\n",
       "      <td>T</td>\n",
       "      <td>C</td>\n",
       "      <td>TCEA3</td>\n",
       "      <td>0</td>\n",
       "      <td>0</td>\n",
       "      <td>no HDR in vincinity</td>\n",
       "    </tr>\n",
       "    <tr>\n",
       "      <th>3</th>\n",
       "      <td>chr1</td>\n",
       "      <td>39511892</td>\n",
       "      <td>39511892</td>\n",
       "      <td>G</td>\n",
       "      <td>A</td>\n",
       "      <td>BMP8A</td>\n",
       "      <td>0</td>\n",
       "      <td>0</td>\n",
       "      <td>no HDR in vincinity</td>\n",
       "    </tr>\n",
       "    <tr>\n",
       "      <th>4</th>\n",
       "      <td>chr1</td>\n",
       "      <td>39769776</td>\n",
       "      <td>39769776</td>\n",
       "      <td>C</td>\n",
       "      <td>T</td>\n",
       "      <td>OXCT2</td>\n",
       "      <td>0</td>\n",
       "      <td>0</td>\n",
       "      <td>no HDR in vincinity</td>\n",
       "    </tr>\n",
       "    <tr>\n",
       "      <th>...</th>\n",
       "      <td>...</td>\n",
       "      <td>...</td>\n",
       "      <td>...</td>\n",
       "      <td>...</td>\n",
       "      <td>...</td>\n",
       "      <td>...</td>\n",
       "      <td>...</td>\n",
       "      <td>...</td>\n",
       "      <td>...</td>\n",
       "    </tr>\n",
       "    <tr>\n",
       "      <th>172</th>\n",
       "      <td>chr22</td>\n",
       "      <td>50030478</td>\n",
       "      <td>50030478</td>\n",
       "      <td>C</td>\n",
       "      <td>T</td>\n",
       "      <td>TTLL8</td>\n",
       "      <td>0</td>\n",
       "      <td>0</td>\n",
       "      <td>no HDR in vincinity</td>\n",
       "    </tr>\n",
       "    <tr>\n",
       "      <th>173</th>\n",
       "      <td>chr22</td>\n",
       "      <td>50030504</td>\n",
       "      <td>50030504</td>\n",
       "      <td>G</td>\n",
       "      <td>T</td>\n",
       "      <td>TTLL8</td>\n",
       "      <td>0</td>\n",
       "      <td>0</td>\n",
       "      <td>no HDR in vincinity</td>\n",
       "    </tr>\n",
       "    <tr>\n",
       "      <th>174</th>\n",
       "      <td>chrX</td>\n",
       "      <td>71122601</td>\n",
       "      <td>71122601</td>\n",
       "      <td>A</td>\n",
       "      <td>C</td>\n",
       "      <td>MED12</td>\n",
       "      <td>0</td>\n",
       "      <td>0</td>\n",
       "      <td>no HDR in vincinity</td>\n",
       "    </tr>\n",
       "    <tr>\n",
       "      <th>175</th>\n",
       "      <td>chrX</td>\n",
       "      <td>108183752</td>\n",
       "      <td>108183752</td>\n",
       "      <td>-</td>\n",
       "      <td>CTT</td>\n",
       "      <td>COL4A6</td>\n",
       "      <td>0</td>\n",
       "      <td>0</td>\n",
       "      <td>no HDR in vincinity</td>\n",
       "    </tr>\n",
       "    <tr>\n",
       "      <th>176</th>\n",
       "      <td>chrX</td>\n",
       "      <td>141879335</td>\n",
       "      <td>141879335</td>\n",
       "      <td>A</td>\n",
       "      <td>T</td>\n",
       "      <td>MAGEC3</td>\n",
       "      <td>0</td>\n",
       "      <td>0</td>\n",
       "      <td>no HDR in vincinity</td>\n",
       "    </tr>\n",
       "  </tbody>\n",
       "</table>\n",
       "<p>177 rows × 9 columns</p>\n",
       "</div>"
      ],
      "text/plain": [
       "       Chr      Start        End Ref  Alt    Gene  HDRcand  HDRcount  \\\n",
       "0     chr1    3632268    3632268   G    C  WRAP73        0         0   \n",
       "1     chr1    4712657    4712657   G    A   AJAP1        0         0   \n",
       "2     chr1   23417366   23417366   T    C   TCEA3        0         0   \n",
       "3     chr1   39511892   39511892   G    A   BMP8A        0         0   \n",
       "4     chr1   39769776   39769776   C    T   OXCT2        0         0   \n",
       "..     ...        ...        ...  ..  ...     ...      ...       ...   \n",
       "172  chr22   50030478   50030478   C    T   TTLL8        0         0   \n",
       "173  chr22   50030504   50030504   G    T   TTLL8        0         0   \n",
       "174   chrX   71122601   71122601   A    C   MED12        0         0   \n",
       "175   chrX  108183752  108183752   -  CTT  COL4A6        0         0   \n",
       "176   chrX  141879335  141879335   A    T  MAGEC3        0         0   \n",
       "\n",
       "                 HDRinfo  \n",
       "0    no HDR in vincinity  \n",
       "1    no HDR in vincinity  \n",
       "2    no HDR in vincinity  \n",
       "3    no HDR in vincinity  \n",
       "4    no HDR in vincinity  \n",
       "..                   ...  \n",
       "172  no HDR in vincinity  \n",
       "173  no HDR in vincinity  \n",
       "174  no HDR in vincinity  \n",
       "175  no HDR in vincinity  \n",
       "176  no HDR in vincinity  \n",
       "\n",
       "[177 rows x 9 columns]"
      ]
     },
     "execution_count": 4,
     "metadata": {},
     "output_type": "execute_result"
    }
   ],
   "source": [
    "import sys\n",
    "import os\n",
    "sys.path.append('../code')\n",
    "from io import StringIO\n",
    "from subprocess import Popen, PIPE, run\n",
    "from HDR_run import HDR_master\n",
    "\n",
    "home = '/Users/mahtin'\n",
    "path = '/Users/martinscience/Dropbox/Icke/Work/somVar/HDRtest'\n",
    "bam_file = f'{path}/data/002.bam '\n",
    "chrom = 'chr1'\n",
    "# chrom = ''\n",
    "pileup_file = f'{path}/data/001.chr1.pileup'\n",
    "threads = 8\n",
    "mut_file = f'{path}/data/002.csv'\n",
    "genome_split_path = os.path.join(home,'Dropbox/Icke/Work/static/genome/gatk/hg38/split')\n",
    "HDR_config = {\n",
    "    \"minAltSum\": 2,\n",
    "    \"minAltRatio\": 0.1,\n",
    "    \"maxAltRatio\": 0.85,\n",
    "    \"MINQ\": 15,\n",
    "    \"MINSIM\": .50,\n",
    "    \"PAD\": 100,\n",
    "    \"MINq\": 10,\n",
    "    \"MinAltSupport\": 5,\n",
    "    \"MinHDRCount\": 1,\n",
    "    \"pile2hotspot\": '../shell/pile2hotspot.mawk',#\n",
    "    \"pile2hotspot_chrom\": '../shell/pile2hotspot_chrom.mawk',\n",
    "    \"editbam\": '../shell/editbam.mawk',\n",
    "    \"bam2csv\": '../shell/bam2csv.mawk',\n",
    "    \"genome_split_path\": genome_split_path # the path to the folder with chrom-split genomes (chr1.fa..)\n",
    "}\n",
    "HDR_master(mut_file, bam_file=bam_file, pileup_file=pileup_file, chrom=chrom, threads=threads, HDR_config=HDR_config)"
   ]
  },
  {
   "cell_type": "code",
   "execution_count": null,
   "metadata": {
    "ExecuteTime": {
     "end_time": "2020-08-23T14:07:32.114469Z",
     "start_time": "2020-08-23T14:07:31.983073Z"
    }
   },
   "outputs": [],
   "source": [
    "ls data"
   ]
  },
  {
   "cell_type": "code",
   "execution_count": null,
   "metadata": {
    "ExecuteTime": {
     "end_time": "2020-08-23T19:25:07.814840Z",
     "start_time": "2020-08-23T19:25:07.772067Z"
    }
   },
   "outputs": [],
   "source": [
    "\n",
    "home = '/Users/mahtin'\n",
    "path = '/Users/mahtin/Dropbox/Icke/Work/somVar/HDRtest'\n",
    "bam_file = f'{path}/data/002.bam '\n",
    "chrom = 'chr1'\n",
    "# chrom = ''\n",
    "pileup_file = f'{path}/data/002.pileup'\n",
    "threads = 8\n",
    "mut_file = f'{path}/data/002.csv'\n",
    "mut_df = pd.read_csv(mut_file, sep='\\t').loc[:, [\n",
    "        'Chr', 'Start', 'End', 'Ref', 'Alt', 'Gene']]\n",
    "# make Chr column categorical for sorting .. and sort\n",
    "chrom_list = [f\"chr{i}\" for i in range(23)] + ['chrX', 'chrY']\n",
    "mut_df['Chr'] = pd.Categorical(mut_df['Chr'], chrom_list)\n",
    "mut_df = mut_df.sort_values(['Chr', 'Start'])\n",
    "mut_df = mut_df.query('Chr == @chrom')\n",
    "mut_df\n",
    "mut_split = np.array_split(mut_df, 4)"
   ]
  },
  {
   "cell_type": "code",
   "execution_count": null,
   "metadata": {
    "ExecuteTime": {
     "end_time": "2020-08-23T19:14:23.270088Z",
     "start_time": "2020-08-23T19:14:23.267394Z"
    }
   },
   "outputs": [],
   "source": [
    "mut_df = mut_split[0]"
   ]
  },
  {
   "cell_type": "code",
   "execution_count": null,
   "metadata": {
    "ExecuteTime": {
     "end_time": "2020-08-23T19:30:19.182347Z",
     "start_time": "2020-08-23T19:30:19.170669Z"
    }
   },
   "outputs": [],
   "source": [
    "anno_df = mut_df.sort_values(['Chr', 'Start']).iloc[0:,:5]\n",
    "anno_df"
   ]
  },
  {
   "cell_type": "code",
   "execution_count": null,
   "metadata": {
    "ExecuteTime": {
     "end_time": "2020-08-23T19:38:46.184923Z",
     "start_time": "2020-08-23T19:38:46.179603Z"
    }
   },
   "outputs": [],
   "source": [
    "def reduce_regions(df, padding):\n",
    "    '''\n",
    "    takes a mutation list and returns a region list using padding\n",
    "    overlapping regions are reduced to one using the gap strategy\n",
    "    '''\n",
    "\n",
    "    df = df.sort_values('Start')\n",
    "    df['Start'] = df['Start'] - padding\n",
    "    df['End'] = df['End'] + padding\n",
    "    # find the break points\n",
    "    # if Start is greater than previous End (using shift), this is a gap --> df['gap'] = 1\n",
    "    df['gap'] = df['Start'].gt(df['End'].shift()).astype('int')\n",
    "    # id different reads according to gap\n",
    "    # cumulative sum does not increase at df['gap'] == 0 and so these consecutive stretches are grouped together\n",
    "    df['gap'] = df['gap'].cumsum()\n",
    "    # groupby the coverage break group and condense individual coverage islands\n",
    "    # agg has to contain the neccessary shared columns TransLength because it is needed for coverage computation\n",
    "    df = df.groupby('gap').agg({'Chr':'first','Start': 'min', 'End':'max'})\n",
    "    return df.reset_index('gap').drop(columns='gap')"
   ]
  },
  {
   "cell_type": "code",
   "execution_count": null,
   "metadata": {
    "ExecuteTime": {
     "end_time": "2020-08-23T19:37:26.582555Z",
     "start_time": "2020-08-23T19:37:26.547975Z"
    }
   },
   "outputs": [],
   "source": [
    "df = anno_df\n",
    "anno_df\n",
    "padding = 100\n",
    "df['Start'] = df['Start'] - padding\n",
    "df['End'] = df['End'] + padding\n",
    "df['gap'] = df['Start'].gt(df['End'].shift()).astype('int')\n",
    "df['gap'] = df['gap'].cumsum()\n",
    "df = df.groupby('gap').agg({'Chr':'first','Start': 'min', 'End':'max'}).reset_index().drop(columns='gap')\n",
    "df"
   ]
  },
  {
   "cell_type": "code",
   "execution_count": null,
   "metadata": {
    "ExecuteTime": {
     "end_time": "2020-08-23T19:38:49.099313Z",
     "start_time": "2020-08-23T19:38:49.076795Z"
    }
   },
   "outputs": [],
   "source": [
    "bed_df = reduce_regions(anno_df, 100)\n",
    "bed_df"
   ]
  },
  {
   "cell_type": "code",
   "execution_count": null,
   "metadata": {},
   "outputs": [],
   "source": [
    "pd.DataFrame(columns=[\n",
    "        'Chr',\n",
    "        'Start',\n",
    "        'End',\n",
    "        'Ref',\n",
    "        'Alt',\n",
    "        'Gene',\n",
    "        'HDRcand',\n",
    "        'HDRcount',\n",
    "        'HDRinfo',\n",
    "    ])"
   ]
  },
  {
   "cell_type": "code",
   "execution_count": null,
   "metadata": {},
   "outputs": [],
   "source": []
  }
 ],
 "metadata": {
  "kernelspec": {
   "display_name": "Python 3",
   "language": "python",
   "name": "python3"
  },
  "language_info": {
   "codemirror_mode": {
    "name": "ipython",
    "version": 3
   },
   "file_extension": ".py",
   "mimetype": "text/x-python",
   "name": "python",
   "nbconvert_exporter": "python",
   "pygments_lexer": "ipython3",
   "version": "3.8.5"
  },
  "varInspector": {
   "cols": {
    "lenName": 16,
    "lenType": 16,
    "lenVar": 40
   },
   "kernels_config": {
    "python": {
     "delete_cmd_postfix": "",
     "delete_cmd_prefix": "del ",
     "library": "var_list.py",
     "varRefreshCmd": "print(var_dic_list())"
    },
    "r": {
     "delete_cmd_postfix": ") ",
     "delete_cmd_prefix": "rm(",
     "library": "var_list.r",
     "varRefreshCmd": "cat(var_dic_list()) "
    }
   },
   "types_to_exclude": [
    "module",
    "function",
    "builtin_function_or_method",
    "instance",
    "_Feature"
   ],
   "window_display": false
  }
 },
 "nbformat": 4,
 "nbformat_minor": 4
}
