{
 "cells": [
  {
   "cell_type": "code",
   "execution_count": null,
   "metadata": {
    "ExecuteTime": {
     "end_time": "2020-08-23T13:31:01.210630Z",
     "start_time": "2020-08-23T13:31:01.086781Z"
    }
   },
   "outputs": [],
   "source": [
    "ls ../data"
   ]
  },
  {
   "cell_type": "code",
   "execution_count": 2,
   "metadata": {
    "ExecuteTime": {
     "end_time": "2020-08-23T20:04:48.970581Z",
     "start_time": "2020-08-23T20:04:42.955907Z"
    }
   },
   "outputs": [
    {
     "name": "stdout",
     "output_type": "stream",
     "text": [
      "\u001b[1;30;1mImporting /Users/mahtin/Dropbox/Icke/Work/somVar/HDRtest/data/002.csv for HDR detection\u001b[0m\n",
      "\u001b[1;35;2m22:04:42\u001b[0m : \u001b[1;30;1mStarting HDR analysis of /Users/mahtin/Dropbox/Icke/Work/somVar/HDRtest/data/002.csv on chr1 using 8 cores. [MIN_SIM=0.5, PAD=100]\u001b[0m\n",
      "\u001b[1;35;2m22:04:42\u001b[0m : \u001b[1;30;1mUsing 4 cores for hotspot detection on chr1\u001b[0m\n",
      "\u001b[1;35;2m22:04:47\u001b[0m : \u001b[1;30;1mDetected 26 putative HDR lanes in /Users/mahtin/Dropbox/Icke/Work/somVar/HDRtest/data/002.bam .\u001b[0m\n",
      "\u001b[1;35;2m22:04:47\u001b[0m : \u001b[1;30;1mUsing 8 cores for filtering HDR-rich mutations\u001b[0m\n",
      "\u001b[1;35;2m22:04:47\u001b[0m : \u001b[1;30;1mFound a total of 14 HDR-rich mutations\u001b[0m\n",
      "\u001b[1;35;2m22:04:47\u001b[0m : \u001b[1;30;1mUsing 8 cores for HDR computation\u001b[0m\n"
     ]
    },
    {
     "data": {
      "text/html": [
       "<div>\n",
       "<style scoped>\n",
       "    .dataframe tbody tr th:only-of-type {\n",
       "        vertical-align: middle;\n",
       "    }\n",
       "\n",
       "    .dataframe tbody tr th {\n",
       "        vertical-align: top;\n",
       "    }\n",
       "\n",
       "    .dataframe thead th {\n",
       "        text-align: right;\n",
       "    }\n",
       "</style>\n",
       "<table border=\"1\" class=\"dataframe\">\n",
       "  <thead>\n",
       "    <tr style=\"text-align: right;\">\n",
       "      <th></th>\n",
       "      <th>Chr</th>\n",
       "      <th>Start</th>\n",
       "      <th>End</th>\n",
       "      <th>Ref</th>\n",
       "      <th>Alt</th>\n",
       "      <th>Gene</th>\n",
       "      <th>HDRcand</th>\n",
       "      <th>HDRcount</th>\n",
       "      <th>HDRinfo</th>\n",
       "    </tr>\n",
       "  </thead>\n",
       "  <tbody>\n",
       "    <tr>\n",
       "      <th>0</th>\n",
       "      <td>chr1</td>\n",
       "      <td>3632268</td>\n",
       "      <td>3632268</td>\n",
       "      <td>G</td>\n",
       "      <td>C</td>\n",
       "      <td>WRAP73</td>\n",
       "      <td>1</td>\n",
       "      <td>0</td>\n",
       "      <td>no HDR in vincinity</td>\n",
       "    </tr>\n",
       "    <tr>\n",
       "      <th>1</th>\n",
       "      <td>chr1</td>\n",
       "      <td>4712657</td>\n",
       "      <td>4712657</td>\n",
       "      <td>G</td>\n",
       "      <td>A</td>\n",
       "      <td>AJAP1</td>\n",
       "      <td>1</td>\n",
       "      <td>0</td>\n",
       "      <td>no HDR in vincinity</td>\n",
       "    </tr>\n",
       "    <tr>\n",
       "      <th>2</th>\n",
       "      <td>chr1</td>\n",
       "      <td>23417366</td>\n",
       "      <td>23417366</td>\n",
       "      <td>T</td>\n",
       "      <td>C</td>\n",
       "      <td>TCEA3</td>\n",
       "      <td>1</td>\n",
       "      <td>0</td>\n",
       "      <td>no HDR in vincinity</td>\n",
       "    </tr>\n",
       "    <tr>\n",
       "      <th>3</th>\n",
       "      <td>chr1</td>\n",
       "      <td>39511892</td>\n",
       "      <td>39511892</td>\n",
       "      <td>G</td>\n",
       "      <td>A</td>\n",
       "      <td>BMP8A</td>\n",
       "      <td>2</td>\n",
       "      <td>0</td>\n",
       "      <td>no similarity in HDR-pattern</td>\n",
       "    </tr>\n",
       "    <tr>\n",
       "      <th>4</th>\n",
       "      <td>chr1</td>\n",
       "      <td>39769776</td>\n",
       "      <td>39769776</td>\n",
       "      <td>C</td>\n",
       "      <td>T</td>\n",
       "      <td>OXCT2</td>\n",
       "      <td>2</td>\n",
       "      <td>1</td>\n",
       "      <td>∆41&lt;Ref:100%(50)&gt;&lt;Alt:100%(14)&gt;</td>\n",
       "    </tr>\n",
       "    <tr>\n",
       "      <th>5</th>\n",
       "      <td>chr1</td>\n",
       "      <td>109192794</td>\n",
       "      <td>109192794</td>\n",
       "      <td>A</td>\n",
       "      <td>C</td>\n",
       "      <td>KIAA1324</td>\n",
       "      <td>2</td>\n",
       "      <td>1</td>\n",
       "      <td>∆88&lt;Ref:100%(8)&gt;&lt;Alt:80%(10)&gt;</td>\n",
       "    </tr>\n",
       "    <tr>\n",
       "      <th>6</th>\n",
       "      <td>chr1</td>\n",
       "      <td>117118132</td>\n",
       "      <td>117118132</td>\n",
       "      <td>C</td>\n",
       "      <td>T</td>\n",
       "      <td>TRIM45</td>\n",
       "      <td>1</td>\n",
       "      <td>0</td>\n",
       "      <td>no HDR in vincinity</td>\n",
       "    </tr>\n",
       "    <tr>\n",
       "      <th>7</th>\n",
       "      <td>chr1</td>\n",
       "      <td>146135471</td>\n",
       "      <td>146135471</td>\n",
       "      <td>T</td>\n",
       "      <td>C</td>\n",
       "      <td>NBPF10</td>\n",
       "      <td>1</td>\n",
       "      <td>0</td>\n",
       "      <td>no HDR in vincinity</td>\n",
       "    </tr>\n",
       "    <tr>\n",
       "      <th>8</th>\n",
       "      <td>chr1</td>\n",
       "      <td>146164829</td>\n",
       "      <td>146164829</td>\n",
       "      <td>G</td>\n",
       "      <td>A</td>\n",
       "      <td>NOTCH2NL</td>\n",
       "      <td>1</td>\n",
       "      <td>0</td>\n",
       "      <td>no HDR in vincinity</td>\n",
       "    </tr>\n",
       "    <tr>\n",
       "      <th>9</th>\n",
       "      <td>chr1</td>\n",
       "      <td>152155775</td>\n",
       "      <td>152155775</td>\n",
       "      <td>G</td>\n",
       "      <td>T</td>\n",
       "      <td>RPTN</td>\n",
       "      <td>7</td>\n",
       "      <td>0</td>\n",
       "      <td>no similarity in HDR-pattern</td>\n",
       "    </tr>\n",
       "    <tr>\n",
       "      <th>10</th>\n",
       "      <td>chr1</td>\n",
       "      <td>159815635</td>\n",
       "      <td>159815635</td>\n",
       "      <td>A</td>\n",
       "      <td>G</td>\n",
       "      <td>FCRL6</td>\n",
       "      <td>3</td>\n",
       "      <td>1</td>\n",
       "      <td>∆-55&lt;Ref:96%(23)&gt;&lt;Alt:100%(21)&gt;</td>\n",
       "    </tr>\n",
       "    <tr>\n",
       "      <th>11</th>\n",
       "      <td>chr1</td>\n",
       "      <td>197061891</td>\n",
       "      <td>197061891</td>\n",
       "      <td>C</td>\n",
       "      <td>T</td>\n",
       "      <td>F13B</td>\n",
       "      <td>1</td>\n",
       "      <td>0</td>\n",
       "      <td>no HDR in vincinity</td>\n",
       "    </tr>\n",
       "    <tr>\n",
       "      <th>12</th>\n",
       "      <td>chr1</td>\n",
       "      <td>223394461</td>\n",
       "      <td>223394461</td>\n",
       "      <td>G</td>\n",
       "      <td>A</td>\n",
       "      <td>CCDC185</td>\n",
       "      <td>1</td>\n",
       "      <td>0</td>\n",
       "      <td>no HDR in vincinity</td>\n",
       "    </tr>\n",
       "    <tr>\n",
       "      <th>13</th>\n",
       "      <td>chr1</td>\n",
       "      <td>230868212</td>\n",
       "      <td>230868212</td>\n",
       "      <td>T</td>\n",
       "      <td>G</td>\n",
       "      <td>C1orf198</td>\n",
       "      <td>2</td>\n",
       "      <td>0</td>\n",
       "      <td>no similarity in HDR-pattern</td>\n",
       "    </tr>\n",
       "  </tbody>\n",
       "</table>\n",
       "</div>"
      ],
      "text/plain": [
       "     Chr      Start        End Ref Alt      Gene  HDRcand  HDRcount  \\\n",
       "0   chr1    3632268    3632268   G   C    WRAP73        1         0   \n",
       "1   chr1    4712657    4712657   G   A     AJAP1        1         0   \n",
       "2   chr1   23417366   23417366   T   C     TCEA3        1         0   \n",
       "3   chr1   39511892   39511892   G   A     BMP8A        2         0   \n",
       "4   chr1   39769776   39769776   C   T     OXCT2        2         1   \n",
       "5   chr1  109192794  109192794   A   C  KIAA1324        2         1   \n",
       "6   chr1  117118132  117118132   C   T    TRIM45        1         0   \n",
       "7   chr1  146135471  146135471   T   C    NBPF10        1         0   \n",
       "8   chr1  146164829  146164829   G   A  NOTCH2NL        1         0   \n",
       "9   chr1  152155775  152155775   G   T      RPTN        7         0   \n",
       "10  chr1  159815635  159815635   A   G     FCRL6        3         1   \n",
       "11  chr1  197061891  197061891   C   T      F13B        1         0   \n",
       "12  chr1  223394461  223394461   G   A   CCDC185        1         0   \n",
       "13  chr1  230868212  230868212   T   G  C1orf198        2         0   \n",
       "\n",
       "                            HDRinfo  \n",
       "0               no HDR in vincinity  \n",
       "1               no HDR in vincinity  \n",
       "2               no HDR in vincinity  \n",
       "3      no similarity in HDR-pattern  \n",
       "4   ∆41<Ref:100%(50)><Alt:100%(14)>  \n",
       "5     ∆88<Ref:100%(8)><Alt:80%(10)>  \n",
       "6               no HDR in vincinity  \n",
       "7               no HDR in vincinity  \n",
       "8               no HDR in vincinity  \n",
       "9      no similarity in HDR-pattern  \n",
       "10  ∆-55<Ref:96%(23)><Alt:100%(21)>  \n",
       "11              no HDR in vincinity  \n",
       "12              no HDR in vincinity  \n",
       "13     no similarity in HDR-pattern  "
      ]
     },
     "execution_count": 2,
     "metadata": {},
     "output_type": "execute_result"
    }
   ],
   "source": [
    "import sys\n",
    "import os\n",
    "sys.path.append('../code')\n",
    "from io import StringIO\n",
    "from subprocess import Popen, PIPE, run\n",
    "from HDR_run import HDR_master\n",
    "\n",
    "home = '/Users/mahtin'\n",
    "path = '/Users/mahtin/Dropbox/Icke/Work/somVar/HDRtest'\n",
    "bam_file = f'{path}/data/002.bam '\n",
    "chrom = 'chr1'\n",
    "# chrom = ''\n",
    "pileup_file = f'{path}/data/002.pileup'\n",
    "threads = 8\n",
    "mut_file = f'{path}/data/002.csv'\n",
    "genome_split_path = os.path.join(home,'Dropbox/Icke/Work/static/genome/gatk/hg38/split')\n",
    "HDR_config = {\n",
    "    \"minAltSum\": 2,\n",
    "    \"minAltRatio\": 0.1,\n",
    "    \"maxAltRatio\": 0.85,\n",
    "    \"MINQ\": 15,\n",
    "    \"MINSIM\": .50,\n",
    "    \"PAD\": 100,\n",
    "    \"MINq\": 10,\n",
    "    \"MinAltSupport\": 5,\n",
    "    \"MinHDRCount\": 1,\n",
    "    \"pile2hotspot\": '../shell/pile2hotspot.mawk',#\n",
    "    \"pile2hotspot_chrom\": '../shell/pile2hotspot_chrom.mawk',\n",
    "    \"editbam\": '../shell/editbam.mawk',\n",
    "    \"bam2csv\": 'bam2csv',\n",
    "    \"genome_split_path\": genome_split_path # the path to the folder with chrom-split genomes (chr1.fa..)\n",
    "}\n",
    "HDR_master(mut_file, bam_file=bam_file, chrom=chrom, threads=threads, HDR_config=HDR_config)"
   ]
  },
  {
   "cell_type": "code",
   "execution_count": null,
   "metadata": {
    "ExecuteTime": {
     "end_time": "2020-08-23T14:07:32.114469Z",
     "start_time": "2020-08-23T14:07:31.983073Z"
    }
   },
   "outputs": [],
   "source": [
    "ls data"
   ]
  },
  {
   "cell_type": "code",
   "execution_count": null,
   "metadata": {
    "ExecuteTime": {
     "end_time": "2020-08-23T19:25:07.814840Z",
     "start_time": "2020-08-23T19:25:07.772067Z"
    }
   },
   "outputs": [],
   "source": [
    "\n",
    "home = '/Users/mahtin'\n",
    "path = '/Users/mahtin/Dropbox/Icke/Work/somVar/HDRtest'\n",
    "bam_file = f'{path}/data/002.bam '\n",
    "chrom = 'chr1'\n",
    "# chrom = ''\n",
    "pileup_file = f'{path}/data/002.pileup'\n",
    "threads = 8\n",
    "mut_file = f'{path}/data/002.csv'\n",
    "mut_df = pd.read_csv(mut_file, sep='\\t').loc[:, [\n",
    "        'Chr', 'Start', 'End', 'Ref', 'Alt', 'Gene']]\n",
    "# make Chr column categorical for sorting .. and sort\n",
    "chrom_list = [f\"chr{i}\" for i in range(23)] + ['chrX', 'chrY']\n",
    "mut_df['Chr'] = pd.Categorical(mut_df['Chr'], chrom_list)\n",
    "mut_df = mut_df.sort_values(['Chr', 'Start'])\n",
    "mut_df = mut_df.query('Chr == @chrom')\n",
    "mut_df\n",
    "mut_split = np.array_split(mut_df, 4)"
   ]
  },
  {
   "cell_type": "code",
   "execution_count": null,
   "metadata": {
    "ExecuteTime": {
     "end_time": "2020-08-23T19:14:23.270088Z",
     "start_time": "2020-08-23T19:14:23.267394Z"
    }
   },
   "outputs": [],
   "source": [
    "mut_df = mut_split[0]"
   ]
  },
  {
   "cell_type": "code",
   "execution_count": null,
   "metadata": {
    "ExecuteTime": {
     "end_time": "2020-08-23T19:30:19.182347Z",
     "start_time": "2020-08-23T19:30:19.170669Z"
    }
   },
   "outputs": [],
   "source": [
    "anno_df = mut_df.sort_values(['Chr', 'Start']).iloc[0:,:5]\n",
    "anno_df"
   ]
  },
  {
   "cell_type": "code",
   "execution_count": null,
   "metadata": {
    "ExecuteTime": {
     "end_time": "2020-08-23T19:38:46.184923Z",
     "start_time": "2020-08-23T19:38:46.179603Z"
    }
   },
   "outputs": [],
   "source": [
    "def reduce_regions(df, padding):\n",
    "    '''\n",
    "    takes a mutation list and returns a region list using padding\n",
    "    overlapping regions are reduced to one using the gap strategy\n",
    "    '''\n",
    "\n",
    "    df = df.sort_values('Start')\n",
    "    df['Start'] = df['Start'] - padding\n",
    "    df['End'] = df['End'] + padding\n",
    "    # find the break points\n",
    "    # if Start is greater than previous End (using shift), this is a gap --> df['gap'] = 1\n",
    "    df['gap'] = df['Start'].gt(df['End'].shift()).astype('int')\n",
    "    # id different reads according to gap\n",
    "    # cumulative sum does not increase at df['gap'] == 0 and so these consecutive stretches are grouped together\n",
    "    df['gap'] = df['gap'].cumsum()\n",
    "    # groupby the coverage break group and condense individual coverage islands\n",
    "    # agg has to contain the neccessary shared columns TransLength because it is needed for coverage computation\n",
    "    df = df.groupby('gap').agg({'Chr':'first','Start': 'min', 'End':'max'})\n",
    "    return df.reset_index('gap').drop(columns='gap')"
   ]
  },
  {
   "cell_type": "code",
   "execution_count": null,
   "metadata": {
    "ExecuteTime": {
     "end_time": "2020-08-23T19:37:26.582555Z",
     "start_time": "2020-08-23T19:37:26.547975Z"
    }
   },
   "outputs": [],
   "source": [
    "df = anno_df\n",
    "anno_df\n",
    "padding = 100\n",
    "df['Start'] = df['Start'] - padding\n",
    "df['End'] = df['End'] + padding\n",
    "df['gap'] = df['Start'].gt(df['End'].shift()).astype('int')\n",
    "df['gap'] = df['gap'].cumsum()\n",
    "df = df.groupby('gap').agg({'Chr':'first','Start': 'min', 'End':'max'}).reset_index().drop(columns='gap')\n",
    "df"
   ]
  },
  {
   "cell_type": "code",
   "execution_count": null,
   "metadata": {
    "ExecuteTime": {
     "end_time": "2020-08-23T19:38:49.099313Z",
     "start_time": "2020-08-23T19:38:49.076795Z"
    }
   },
   "outputs": [],
   "source": [
    "bed_df = reduce_regions(anno_df, 100)\n",
    "bed_df"
   ]
  },
  {
   "cell_type": "code",
   "execution_count": null,
   "metadata": {},
   "outputs": [],
   "source": []
  }
 ],
 "metadata": {
  "kernelspec": {
   "display_name": "Python 3",
   "language": "python",
   "name": "python3"
  },
  "varInspector": {
   "cols": {
    "lenName": 16,
    "lenType": 16,
    "lenVar": 40
   },
   "kernels_config": {
    "python": {
     "delete_cmd_postfix": "",
     "delete_cmd_prefix": "del ",
     "library": "var_list.py",
     "varRefreshCmd": "print(var_dic_list())"
    },
    "r": {
     "delete_cmd_postfix": ") ",
     "delete_cmd_prefix": "rm(",
     "library": "var_list.r",
     "varRefreshCmd": "cat(var_dic_list()) "
    }
   },
   "types_to_exclude": [
    "module",
    "function",
    "builtin_function_or_method",
    "instance",
    "_Feature"
   ],
   "window_display": false
  }
 },
 "nbformat": 4,
 "nbformat_minor": 4
}
